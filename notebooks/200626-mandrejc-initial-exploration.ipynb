{
 "cells": [
  {
   "cell_type": "markdown",
   "metadata": {},
   "source": [
    "# Introduction\n",
    "\n",
    "This notebook is intended to reproduce key results from the paper \"Identification and machine learning prediction of knee-point and\n",
    "knee-onset in capacity degradation curves of lithium-ion cells\". \n",
    "\n",
    "The dataset used is available at https://data.matr.io/1/projects/5c48dd2bc625d700019f3204. For purposes of reducing space usage and computation time, we use only one batch of the dataset (2017-05-12). \n",
    "\n",
    "In particular, we look at the following:\n",
    "\n",
    "1. (Sec 2.2) Identification of knee-point and knee-onset using the Bacon and Watts model, based on code available at https://github.com/pfermined/knee_identification. \n",
    "\n",
    "2. (Sec 2.3) Estimating the cycle life of a cell using a linear regression model.\n",
    "\n",
    "3. (Sec 3 problem 1) Classifying cell lifecycles into short, medium, and long, based on the knee-point occurence. \n",
    "\n",
    "4. (Sec 3 problem 2) Predicting the knee-point and knee-onset using only information from the early life-cycle of the cell."
   ]
  },
  {
   "cell_type": "code",
   "execution_count": 1,
   "metadata": {},
   "outputs": [],
   "source": [
    "import pickle\n",
    "from matplotlib import pyplot as plt\n",
    "import numpy as np\n",
    "from scipy.optimize import curve_fit"
   ]
  },
  {
   "cell_type": "markdown",
   "metadata": {},
   "source": [
    "## Data prep"
   ]
  },
  {
   "cell_type": "markdown",
   "metadata": {},
   "source": [
    "### Defining functions"
   ]
  },
  {
   "cell_type": "code",
   "execution_count": 2,
   "metadata": {},
   "outputs": [],
   "source": [
    "# Define bacon-watts formula\n",
    "def bacon_watts_model(x, alpha0, alpha1, alpha2, x1):\n",
    "    ''' Equation of bw_model'''\n",
    "    return alpha0 + alpha1 * (x - x1) \\ \n",
    "            + alpha2 * (x - x1) * np.tanh((x - x1) / 1e-8)\n",
    "\n",
    "\n",
    "def fit_bacon_watts(y, p0):\n",
    "    ''' Function to fit Bacon-Watts model to identify knee-point in capacity fade data\n",
    "    \n",
    "    Args:\n",
    "    - capacity fade data (list): cycle-to-cycle evolution of Qd capacity\n",
    "    - p0 (list): initial parameter values for Bacon-Watts model\n",
    "    \n",
    "    Returns:\n",
    "    - popt (int): fitted parameters\n",
    "    - confint (list): 95% confidence interval for fitted knee-point\n",
    "    '''         \n",
    "    \n",
    "    # Define array of cycles\n",
    "    x = np.arange(len(y)) + 1\n",
    "    \n",
    "    # Fit bacon-watts\n",
    "    popt, pcov = curve_fit(bacon_watts_model, x, y, p0=p0)\n",
    "    \n",
    "    confint = [popt[3] - 1.96 * np.diag(pcov)[3], \n",
    "               popt[3] + 1.96 * np.diag(pcov)[3]]\n",
    "    \n",
    "    return popt, confint\n",
    "\n",
    "\n",
    "def double_bacon_watts_model(x, alpha0, alpha1, alpha2, alpha3, x0, x2):\n",
    "    return alpha0 + alpha1 * (x - x0) \\\n",
    "            + alpha2 * (x - x0) * np.tanh((x - x0)/1e-8) \\ \n",
    "            + alpha3 * (x - x2) * np.tanh((x - x2)/1e-8)\n",
    "\n",
    "\n",
    "def fit_double_bacon_watts(y, p0):\n",
    "    ''' Function to fit Bacon-Watts model to identify knee-point in capacity fade data\n",
    "    \n",
    "    Args:\n",
    "    - capacity fade data (list): cycle-to-cycle evolution of Qd capacity\n",
    "    - p0 (list): initial parameter values for Bacon-Watts model\n",
    "    \n",
    "    Returns:\n",
    "    - popt (int): fitted parameters\n",
    "    - confint (list): 95% confidence interval for fitted knee-point\n",
    "    ''' \n",
    "    \n",
    "    # Define array of cycles\n",
    "    x = np.arange(len(y)) + 1\n",
    "    \n",
    "    # Fit bacon-watts\n",
    "    popt, pcov = curve_fit(double_bacon_watts_model, x, y, p0=p0)\n",
    "    \n",
    "    confint = [popt[4] - 1.96 * np.diag(pcov)[4], \n",
    "               popt[4] + 1.96 * np.diag(pcov)[4]]\n",
    "    \n",
    "    return popt, confint"
   ]
  },
  {
   "cell_type": "markdown",
   "metadata": {},
   "source": [
    "### Checking file contents"
   ]
  },
  {
   "cell_type": "code",
   "execution_count": 3,
   "metadata": {},
   "outputs": [],
   "source": [
    "battery = \"b1c45\"\n",
    "fname = f'../data/interim/{battery}.pkl'"
   ]
  },
  {
   "cell_type": "code",
   "execution_count": 4,
   "metadata": {},
   "outputs": [],
   "source": [
    "with open(fname, \"rb\") as openfile:\n",
    "    fdict = pickle.load(openfile)"
   ]
  },
  {
   "cell_type": "code",
   "execution_count": 5,
   "metadata": {},
   "outputs": [
    {
     "data": {
      "text/plain": [
       "dict_keys(['cycle_life', 'charge_policy', 'summary', 'cycles'])"
      ]
     },
     "execution_count": 5,
     "metadata": {},
     "output_type": "execute_result"
    }
   ],
   "source": [
    "fdict.keys()"
   ]
  },
  {
   "cell_type": "code",
   "execution_count": 6,
   "metadata": {},
   "outputs": [
    {
     "data": {
      "text/plain": [
       "array([[599.]])"
      ]
     },
     "execution_count": 6,
     "metadata": {},
     "output_type": "execute_result"
    }
   ],
   "source": [
    "fdict[\"cycle_life\"]"
   ]
  },
  {
   "cell_type": "code",
   "execution_count": 7,
   "metadata": {},
   "outputs": [
    {
     "data": {
      "text/plain": [
       "'8C(35%)-3.6C'"
      ]
     },
     "execution_count": 7,
     "metadata": {},
     "output_type": "execute_result"
    }
   ],
   "source": [
    "fdict[\"charge_policy\"]"
   ]
  },
  {
   "cell_type": "code",
   "execution_count": 8,
   "metadata": {},
   "outputs": [
    {
     "data": {
      "text/plain": [
       "dict_keys(['IR', 'QC', 'QD', 'Tavg', 'Tmin', 'Tmax', 'chargetime', 'cycle'])"
      ]
     },
     "execution_count": 8,
     "metadata": {},
     "output_type": "execute_result"
    }
   ],
   "source": [
    "fdict[\"summary\"].keys()"
   ]
  },
  {
   "cell_type": "code",
   "execution_count": 9,
   "metadata": {},
   "outputs": [
    {
     "data": {
      "text/plain": [
       "dict_keys(['I', 'Qc', 'Qd', 'Qdlin', 'T', 'Tdlin', 'V', 'dQdV', 't'])"
      ]
     },
     "execution_count": 9,
     "metadata": {},
     "output_type": "execute_result"
    }
   ],
   "source": [
    "fdict[\"cycles\"][\"1\"].keys()"
   ]
  },
  {
   "cell_type": "code",
   "execution_count": 10,
   "metadata": {},
   "outputs": [
    {
     "data": {
      "text/plain": [
       "[<matplotlib.lines.Line2D at 0x7ff18f2c9fd0>]"
      ]
     },
     "execution_count": 10,
     "metadata": {},
     "output_type": "execute_result"
    },
    {
     "data": {
      "image/png": "[encoded data removed]",
      "text/plain": [
       "<Figure size 432x288 with 1 Axes>"
      ]
     },
     "metadata": {
      "needs_background": "light"
     },
     "output_type": "display_data"
    }
   ],
   "source": [
    "d = fdict[\"summary\"][\"QD\"][1:]\n",
    "\n",
    "plt.plot([x for x in range(len(d))], d, 'k-', linewidth=3)"
   ]
  },
  {
   "cell_type": "markdown",
   "metadata": {},
   "source": [
    "## 2.2: Curve fitting: knee-point and knee-onset"
   ]
  },
  {
   "cell_type": "code",
   "execution_count": 18,
   "metadata": {},
   "outputs": [
    {
     "data": {
      "image/png": "[encoded data removed]",
      "text/plain": [
       "<Figure size 864x288 with 1 Axes>"
      ]
     },
     "metadata": {
      "needs_background": "light"
     },
     "output_type": "display_data"
    }
   ],
   "source": [
    "y_data = d\n",
    "x_data = [x for x in range(len(d))]\n",
    "p0 = [1, -1e-4, -1e-4, len(y_data)*.7]\n",
    "popt_kpoint, confint = fit_bacon_watts(y_data, p0)\n",
    "\n",
    "# Plot results\n",
    "plt.figure(figsize=(12, 4))\n",
    "plt.plot(x_data, y_data, 'k-', linewidth=3)\n",
    "plt.plot(x_data, bacon_watts_model(x_data, *popt_kpoint), 'r-', linewidth=3)\n",
    "plt.vlines(popt_kpoint[3], 0, 2, color='red', linewidth=1)\n",
    "plt.vlines(confint[0], 0, 2, color='red', linewidth=1, linestyle='--')\n",
    "plt.vlines(confint[1], 0, 2, color='red', linewidth=1, linestyle='--')\n",
    "plt.xlabel('cycles')\n",
    "plt.ylabel('Qd capacity')\n",
    "plt.grid(alpha=.3)\n",
    "plt.ylim(.88, 1.1)\n",
    "plt.title(\"b1c45: knee-point\")\n",
    "plt.show()\n"
   ]
  },
  {
   "cell_type": "code",
   "execution_count": 19,
   "metadata": {},
   "outputs": [
    {
     "data": {
      "image/png": "[encoded data removed]",
      "text/plain": [
       "<Figure size 864x288 with 1 Axes>"
      ]
     },
     "metadata": {
      "needs_background": "light"
     },
     "output_type": "display_data"
    }
   ],
   "source": [
    "popt = popt_kpoint # Setting of popt is missing in original notebook\n",
    "p0 = [popt[0], popt[1] + popt[2]/2, popt[2], popt[2]/2, .8*popt[3], 1.1*popt[3]]\n",
    "popt_konset, confint = fit_double_bacon_watts(y_data, p0)\n",
    "\n",
    "\n",
    "# Plot results\n",
    "x_data = [x for x in range(len(d))]\n",
    "plt.figure(figsize=(12, 4))\n",
    "plt.plot(x_data, y_data, 'k-', linewidth=3)\n",
    "plt.plot(x_data, double_bacon_watts_model(x_data, *popt_konset), 'r-', linewidth=3)\n",
    "plt.vlines(popt_konset[4], 0, 2, color='red', linewidth=1)\n",
    "plt.vlines(confint[0], 0, 2, color='red', linewidth=1, linestyle='--')\n",
    "plt.vlines(confint[1], 0, 2, color='red', linewidth=1, linestyle='--')\n",
    "plt.xlabel('cycles')\n",
    "plt.ylabel('Qd capacity')\n",
    "plt.grid(alpha=.3)\n",
    "plt.ylim(.88, 1.1)\n",
    "plt.title(\"b1c45: knee-onset\")\n",
    "plt.show()"
   ]
  },
  {
   "cell_type": "markdown",
   "metadata": {},
   "source": [
    "## 2.3: Linear regression for estimating life cycle, knees"
   ]
  },
  {
   "cell_type": "code",
   "execution_count": 29,
   "metadata": {},
   "outputs": [],
   "source": [
    "def estimate_cycle_life(X, param_dict):\n",
    "    return param_dict[\"beta_0\"] + (param_dict[\"beta_1\"] * X)\n",
    "\n",
    "def estimate_knee(Y, param_dict):\n",
    "    return (Y - param_dict[\"beta_0\"]) / param_dict[\"beta_1\"]"
   ]
  },
  {
   "cell_type": "code",
   "execution_count": 15,
   "metadata": {},
   "outputs": [],
   "source": [
    "# Parameters given in table 1 of the paper\n",
    "# Knee-onset \n",
    "knee_onset_params = {\"beta_0\": 72.13, \"beta_1\": 1.44}\n",
    "# Knee-point\n",
    "knee_point_params = {\"beta_0\": 25.57, \"beta_1\": 1.26}"
   ]
  },
  {
   "cell_type": "code",
   "execution_count": 30,
   "metadata": {},
   "outputs": [
    {
     "name": "stdout",
     "output_type": "stream",
     "text": [
      "Using knee-point:\n",
      "Predicted cycle life: 564.1666973930213\n",
      "Actual cycle life: 597\n",
      "\n",
      "Predicted knee-point using cycle life: 453.51587301587296\n",
      "Actual knee-point: 427.4576963436677\n"
     ]
    }
   ],
   "source": [
    "# Knee-point\n",
    "y_data = d\n",
    "x_data = [x for x in range(len(d))]\n",
    "p0 = [1, -1e-4, -1e-4, len(y_data)*.7]\n",
    "popt_kpoint, confint = fit_bacon_watts(y_data, p0)\n",
    "knee_point = popt_kpoint[3]\n",
    "\n",
    "predicted_cycle_life = estimate_cycle_life(knee_point, knee_point_params)\n",
    "cycle_life = len(y_data)\n",
    "\n",
    "print(\"Using knee-point:\")\n",
    "print(f\"Predicted cycle life: {predicted_cycle_life}\")\n",
    "print(f\"Actual cycle life: {cycle_life}\\n\")\n",
    "\n",
    "predicted_knee_point = estimate_knee(cycle_life, knee_point_params) \n",
    "print(f\"Predicted knee-point using cycle life: {predicted_knee_point}\")\n",
    "print(f\"Actual knee-point: {knee_point}\")"
   ]
  },
  {
   "cell_type": "code",
   "execution_count": 31,
   "metadata": {},
   "outputs": [
    {
     "name": "stdout",
     "output_type": "stream",
     "text": [
      "Using knee-offset:\n",
      "Predicted cycle life: 573.0579640818871\n",
      "Actual cycle life: 597\n",
      "\n",
      "Predicted knee-onset using cycle life: 364.4930555555556\n",
      "Actual knee-onset: 347.8666417235328\n"
     ]
    }
   ],
   "source": [
    "# Knee-onset\n",
    "popt = popt_kpoint \n",
    "p0 = [popt[0], popt[1] + popt[2]/2, popt[2], popt[2]/2, .8*popt[3], 1.1*popt[3]]\n",
    "popt_konset, confint = fit_double_bacon_watts(y_data, p0)\n",
    "knee_onset = popt_konset[4]\n",
    "\n",
    "predicted_cycle_life = estimate_cycle_life(knee_onset, knee_onset_params)\n",
    "cycle_life = len(y_data)\n",
    "\n",
    "print(\"Using knee-offset:\")\n",
    "print(f\"Predicted cycle life: {predicted_cycle_life}\")\n",
    "print(f\"Actual cycle life: {len(y_data)}\\n\")\n",
    "\n",
    "predicted_knee_onset = estimate_knee(cycle_life, knee_onset_params) \n",
    "print(f\"Predicted knee-onset using cycle life: {predicted_knee_onset}\")\n",
    "print(f\"Actual knee-onset: {knee_onset}\")"
   ]
  },
  {
   "cell_type": "code",
   "execution_count": null,
   "metadata": {},
   "outputs": [],
   "source": []
  }
 ],
 "metadata": {
  "kernelspec": {
   "display_name": "Python 3",
   "language": "python",
   "name": "python3"
  },
  "language_info": {
   "codemirror_mode": {
    "name": "ipython",
    "version": 3
   },
   "file_extension": ".py",
   "mimetype": "text/x-python",
   "name": "python",
   "nbconvert_exporter": "python",
   "pygments_lexer": "ipython3",
   "version": "3.6.9"
  }
 },
 "nbformat": 4,
 "nbformat_minor": 4
}
